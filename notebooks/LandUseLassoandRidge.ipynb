{
 "cells": [
  {
   "cell_type": "code",
   "execution_count": 13,
   "metadata": {
    "collapsed": false
   },
   "outputs": [
    {
     "name": "stdout",
     "output_type": "stream",
     "text": [
      "Populating the interactive namespace from numpy and matplotlib\n"
     ]
    }
   ],
   "source": [
    "import pandas as pd\n",
    "import numpy as np\n",
    "import statsmodels.api as sm\n",
    "import statsmodels.formula.api as smf\n",
    "from pandas.stats.api import ols\n",
    "%pylab inline\n",
    "import matplotlib.pyplot as plt\n",
    "from sklearn import linear_model"
   ]
  },
  {
   "cell_type": "code",
   "execution_count": 14,
   "metadata": {
    "collapsed": false
   },
   "outputs": [],
   "source": [
    "listofcolumnsX = ['road_id', 'road_length', 'record_count', 'mean_SndMean', 'mean_lux', 'mean_acel', 'mean_isloud', \n",
    "                 'mean_isdark', 'mean_bumps', 'sum_isloud', 'sum_isdark', 'sum_bumps', 'rn_mean_SndMean', 'rn_mean_lux',\n",
    "                 'rn_mean_acel', 'rn_mean_isloud', 'rn_mean_isdark', 'rn_mean_bumps', 'rn_sum_isloud', \n",
    "                 'rn_sum_isdark', 'rn_sum_bumps']\n"
   ]
  },
  {
   "cell_type": "code",
   "execution_count": 15,
   "metadata": {
    "collapsed": false
   },
   "outputs": [
    {
     "name": "stderr",
     "output_type": "stream",
     "text": [
      "/Users/maxfacts/anaconda/lib/python2.7/site-packages/ipykernel/__main__.py:1: FutureWarning: convert_objects is deprecated.  Use the data-type specific converters pd.to_datetime, pd.to_timedelta and pd.to_numeric.\n",
      "  if __name__ == '__main__':\n",
      "/Users/maxfacts/anaconda/lib/python2.7/site-packages/ipykernel/__main__.py:4: FutureWarning: convert_objects is deprecated.  Use the data-type specific converters pd.to_datetime, pd.to_timedelta and pd.to_numeric.\n",
      "/Users/maxfacts/anaconda/lib/python2.7/site-packages/ipykernel/__main__.py:7: FutureWarning: convert_objects is deprecated.  Use the data-type specific converters pd.to_datetime, pd.to_timedelta and pd.to_numeric.\n"
     ]
    }
   ],
   "source": [
    "sensorXtrain = pd.DataFrame(np.load('x_train.npy'), columns= listofcolumns).convert_objects(convert_numeric=True)\n",
    "sensorYtrain = pd.DataFrame(np.load('y_train.npy'), columns = ['Y'])\n",
    "\n",
    "sensorXvalid = pd.DataFrame(np.load('x_valid.npy'), columns= listofcolumns).convert_objects(convert_numeric=True)\n",
    "sensorYvalid = pd.DataFrame(np.load('y_valid.npy'), columns = ['Y'])\n",
    "\n",
    "sensorXtest = pd.DataFrame(np.load('x_test.npy'), columns= listofcolumns).convert_objects(convert_numeric=True)\n",
    "sensorYtest = pd.DataFrame(np.load('y_test.npy'), columns = ['Y'])"
   ]
  },
  {
   "cell_type": "markdown",
   "metadata": {},
   "source": [
    "# OLS Training"
   ]
  },
  {
   "cell_type": "code",
   "execution_count": 20,
   "metadata": {
    "collapsed": false
   },
   "outputs": [
    {
     "data": {
      "text/plain": [
       "Index([u'road_id', u'road_length', u'record_count', u'mean_SndMean',\n",
       "       u'mean_lux', u'mean_acel', u'mean_isloud', u'mean_isdark',\n",
       "       u'mean_bumps', u'sum_isloud', u'sum_isdark', u'sum_bumps',\n",
       "       u'rn_mean_SndMean', u'rn_mean_lux', u'rn_mean_acel', u'rn_mean_isloud',\n",
       "       u'rn_mean_isdark', u'rn_mean_bumps', u'rn_sum_isloud', u'rn_sum_isdark',\n",
       "       u'rn_sum_bumps'],\n",
       "      dtype='object')"
      ]
     },
     "execution_count": 20,
     "metadata": {},
     "output_type": "execute_result"
    }
   ],
   "source": [
    "sensorXtest.columns"
   ]
  },
  {
   "cell_type": "code",
   "execution_count": 51,
   "metadata": {
    "collapsed": false
   },
   "outputs": [],
   "source": [
    "XmeanRNcatTrain = sensorXtrain[['rn_mean_isloud','rn_mean_isdark','rn_mean_isdark',]]\n",
    "XsumRNcatTrain = sensorXtrain[['rn_sum_isloud','rn_sum_isdark','rn_sum_isdark',]]\n",
    "XmeanRNTrain = sensorXtrain[['rn_mean_acel', 'rn_mean_lux', 'rn_mean_SndMean']]\n",
    "XmeanTrain = sensorXtrain[['mean_SndMean', 'mean_lux', 'mean_acel']]\n",
    "\n",
    "\n",
    "Ytrain = np.load('y_train.npy')"
   ]
  },
  {
   "cell_type": "code",
   "execution_count": 52,
   "metadata": {
    "collapsed": false
   },
   "outputs": [
    {
     "name": "stdout",
     "output_type": "stream",
     "text": [
      "MeanRN Catagoeroy R_2 is:  0.00968732814954\n",
      "sumRN Catagoeroy R_2 is:  0.0323637014141\n",
      "Mean RN R_2 is:  0.0317567015074\n",
      "Mean R_2 is:  0.0483804518637\n"
     ]
    }
   ],
   "source": [
    "meanRNcat = ols(y=Ytrain,x=XmeanRNcatTrain)\n",
    "print 'MeanRN Catagoeroy R_2 is: ', meanRNcat.r2\n",
    "sumRNcat = ols(y = Ytrain, x= XsumRNcatTrain)\n",
    "print 'sumRN Catagoeroy R_2 is: ', sumRNcat.r2\n",
    "meanRNTrain = ols(y = Ytrain, x= XmeanRNTrain)\n",
    "print 'Mean RN R_2 is: ', meanRNTrain.r2\n",
    "meanTrain = ols(y = Ytrain, x= XmeanTrain)\n",
    "print 'Mean R_2 is: ', meanTrain.r2"
   ]
  },
  {
   "cell_type": "markdown",
   "metadata": {},
   "source": [
    "# Linear Test Set"
   ]
  },
  {
   "cell_type": "code",
   "execution_count": 53,
   "metadata": {
    "collapsed": false,
    "scrolled": true
   },
   "outputs": [],
   "source": [
    "XmeanRNcatTest = sensorXtest[['rn_mean_isloud','rn_mean_isdark','rn_mean_isdark',]]\n",
    "XsumRNcatTest = sensorXtest[['rn_sum_isloud','rn_sum_isdark','rn_sum_isdark',]]\n",
    "XmeanRNTest = sensorXtest[['rn_mean_acel', 'rn_mean_lux', 'rn_mean_SndMean']]\n",
    "XmeanTest = sensorXtest[['mean_SndMean', 'mean_lux', 'mean_acel']]\n",
    "\n",
    "\n",
    "Ytest = np.load('y_test.npy')"
   ]
  },
  {
   "cell_type": "code",
   "execution_count": 57,
   "metadata": {
    "collapsed": false
   },
   "outputs": [
    {
     "name": "stdout",
     "output_type": "stream",
     "text": [
      "MeanRN Catagoeroy R_2 is:  0.0164676536571\n",
      "sumRN Catagoeroy R_2 is:  0.0181085468402\n",
      "Mean RN R_2 is:  0.0668345925328\n",
      "Mean R_2 is:  0.0919622960803\n"
     ]
    }
   ],
   "source": [
    "meanRNcat = ols(y=Ytest,x=XmeanRNcatTest)\n",
    "print 'MeanRN Catagoeroy R_2 is: ', meanRNcat.r2\n",
    "sumRNcat = ols(y=Ytest, x= XsumRNcatTest)\n",
    "print 'sumRN Catagoeroy R_2 is: ', sumRNcat.r2\n",
    "meanRNTrain = ols(y=Ytest, x= XmeanRNTest)\n",
    "print 'Mean RN R_2 is: ', meanRNTrain.r2\n",
    "meanTrain = ols(y= Ytest, x= XmeanTest)\n",
    "print 'Mean R_2 is: ', meanTrain.r2"
   ]
  },
  {
   "cell_type": "code",
   "execution_count": 119,
   "metadata": {
    "collapsed": false
   },
   "outputs": [
    {
     "name": "stdout",
     "output_type": "stream",
     "text": [
      "OLS regression coefficients=[ 0.17294836  0.09410039  0.14403382  0.32028439]\n",
      "The R-squared we found for in-sample (IS) OLS is: 0.0114128724659\n",
      "The R-squared we found for out-of-sample (OS) OLS is: 0.00967241938118\n"
     ]
    }
   ],
   "source": [
    "#Out of sample \n",
    "a=np.array(sensorXtest)  #makes sure conver pd data to np array\n",
    "b=np.array(result.beta) #makes sure conver pd data to np array\n",
    "print('OLS regression coefficients={0}'.format(b))\n",
    "c=np.sum(a*b[0:-1],axis=1) #b is estimated coefficients, a is prediction data, b[-1] is intercept. This is for predicted y\n",
    "error=Y-c # y_predict is real value, c is the value we guessed\n",
    "R_2_OS=1-error.var()/Y.var() # this is out of sample R2\n",
    "print(\"The R-squared we found for in-sample (IS) OLS is: {0}\".format(R_2_IS))\n",
    "print(\"The R-squared we found for out-of-sample (OS) OLS is: {0}\".format(R_2_OS))"
   ]
  },
  {
   "cell_type": "markdown",
   "metadata": {},
   "source": [
    "# Ridge Training"
   ]
  },
  {
   "cell_type": "code",
   "execution_count": 60,
   "metadata": {
    "collapsed": false
   },
   "outputs": [
    {
     "data": {
      "text/plain": [
       "array([      0.        ,   33333.33333333,   66666.66666667,  100000.        ])"
      ]
     },
     "execution_count": 60,
     "metadata": {},
     "output_type": "execute_result"
    }
   ],
   "source": [
    "linspace(0,100000, 4)"
   ]
  },
  {
   "cell_type": "code",
   "execution_count": 70,
   "metadata": {
    "collapsed": false
   },
   "outputs": [
    {
     "name": "stdout",
     "output_type": "stream",
     "text": [
      "The R-squared we found for IS Ridge is: 0.0323072413743\n",
      "The R-squared we found for IS Ridge is: 0.0138328702092\n",
      "The R-squared we found for IS Ridge is: 0.00856599985976\n",
      "The R-squared we found for IS Ridge is: 0.00618896441817\n",
      "The R-squared we found for IS Ridge is: 0.00484200560438\n",
      "The R-squared we found for IS Ridge is: 0.00397581318107\n",
      "The R-squared we found for IS Ridge is: 0.00337222745089\n",
      "The R-squared we found for IS Ridge is: 0.00292763175409\n",
      "The R-squared we found for IS Ridge is: 0.00258655217667\n",
      "The R-squared we found for IS Ridge is: 0.00231662144852\n",
      "The R-squared we found for IS Ridge is: 0.0323072413743\n",
      "The R-squared we found for IS Ridge is: 0.0138328702092\n",
      "The R-squared we found for IS Ridge is: 0.00856599985976\n",
      "The R-squared we found for IS Ridge is: 0.00618896441817\n",
      "The R-squared we found for IS Ridge is: 0.00484200560438\n",
      "The R-squared we found for IS Ridge is: 0.00397581318107\n",
      "The R-squared we found for IS Ridge is: 0.00337222745089\n",
      "The R-squared we found for IS Ridge is: 0.00292763175409\n",
      "The R-squared we found for IS Ridge is: 0.00258655217667\n",
      "The R-squared we found for IS Ridge is: 0.00231662144852\n",
      "The R-squared we found for IS Ridge is: 0.0317567015074\n",
      "The R-squared we found for IS Ridge is: 0.0136514460836\n",
      "The R-squared we found for IS Ridge is: 0.011467920673\n",
      "The R-squared we found for IS Ridge is: 0.00978281733557\n",
      "The R-squared we found for IS Ridge is: 0.00851008125803\n",
      "The R-squared we found for IS Ridge is: 0.00752994514649\n",
      "The R-squared we found for IS Ridge is: 0.00675677958834\n",
      "The R-squared we found for IS Ridge is: 0.00613321085635\n",
      "The R-squared we found for IS Ridge is: 0.00562052038397\n",
      "The R-squared we found for IS Ridge is: 0.00519198254872\n",
      "The R-squared we found for IS Ridge is: 0.0483804518637\n",
      "The R-squared we found for IS Ridge is: 0.0406233679855\n",
      "The R-squared we found for IS Ridge is: 0.0405748125632\n",
      "The R-squared we found for IS Ridge is: 0.0405559283314\n",
      "The R-squared we found for IS Ridge is: 0.0405435877478\n",
      "The R-squared we found for IS Ridge is: 0.0405331584949\n",
      "The R-squared we found for IS Ridge is: 0.0405231132468\n",
      "The R-squared we found for IS Ridge is: 0.0405128140682\n",
      "The R-squared we found for IS Ridge is: 0.0405019566574\n",
      "The R-squared we found for IS Ridge is: 0.0404903847392\n"
     ]
    }
   ],
   "source": [
    "trainXs = [XsumRNcatTrain, XsumRNcatTrain, XmeanRNTrain, XmeanTrain]\n",
    "for  data in trainXs:\n",
    "    for alpha in linspace(0, 100000, 10):\n",
    "        Ridge=linear_model.Ridge(fit_intercept=True,alpha=alpha) #try Ridge with an arbitrary regularization parameter lambda=1\n",
    "        X = data\n",
    "        Y = Ytrain\n",
    "        Ridge.fit(X,Y)\n",
    "        # In the sample:\n",
    "        p_IS=Ridge.predict(X)\n",
    "        err_IS=p_IS-Y\n",
    "        R_2_IS_Ridge=1-np.var(err_IS)/np.var(Y)\n",
    "        print(\"The R-squared we found for IS Ridge is: {0}\".format(R_2_IS_Ridge))\n",
    "        "
   ]
  },
  {
   "cell_type": "markdown",
   "metadata": {},
   "source": [
    "# Ridge Test"
   ]
  },
  {
   "cell_type": "code",
   "execution_count": 72,
   "metadata": {
    "collapsed": false
   },
   "outputs": [
    {
     "name": "stdout",
     "output_type": "stream",
     "text": [
      "The R-squared we found for IS Ridge is: 0.018081604813\n",
      "The R-squared we found for IS Ridge is: 0.0120396197904\n",
      "The R-squared we found for IS Ridge is: 0.00868907571083\n",
      "The R-squared we found for IS Ridge is: 0.00674789229847\n",
      "The R-squared we found for IS Ridge is: 0.00550502964761\n",
      "The R-squared we found for IS Ridge is: 0.00464539755644\n",
      "The R-squared we found for IS Ridge is: 0.00401662035501\n",
      "The R-squared we found for IS Ridge is: 0.00353713961406\n",
      "The R-squared we found for IS Ridge is: 0.00315960369812\n",
      "The R-squared we found for IS Ridge is: 0.0028547082884\n",
      "The R-squared we found for IS Ridge is: 0.018081604813\n",
      "The R-squared we found for IS Ridge is: 0.0120396197904\n",
      "The R-squared we found for IS Ridge is: 0.00868907571083\n",
      "The R-squared we found for IS Ridge is: 0.00674789229847\n",
      "The R-squared we found for IS Ridge is: 0.00550502964761\n",
      "The R-squared we found for IS Ridge is: 0.00464539755644\n",
      "The R-squared we found for IS Ridge is: 0.00401662035501\n",
      "The R-squared we found for IS Ridge is: 0.00353713961406\n",
      "The R-squared we found for IS Ridge is: 0.00315960369812\n",
      "The R-squared we found for IS Ridge is: 0.0028547082884\n",
      "The R-squared we found for IS Ridge is: 0.0668345925328\n",
      "The R-squared we found for IS Ridge is: 0.00828912726691\n",
      "The R-squared we found for IS Ridge is: 0.00705474183836\n",
      "The R-squared we found for IS Ridge is: 0.00641776975766\n",
      "The R-squared we found for IS Ridge is: 0.00603316171959\n",
      "The R-squared we found for IS Ridge is: 0.00577633963506\n",
      "The R-squared we found for IS Ridge is: 0.00559277902649\n",
      "The R-squared we found for IS Ridge is: 0.00545501804388\n",
      "The R-squared we found for IS Ridge is: 0.00534775966884\n",
      "The R-squared we found for IS Ridge is: 0.00526181873864\n",
      "The R-squared we found for IS Ridge is: 0.0919622960803\n",
      "The R-squared we found for IS Ridge is: 0.0741344071292\n",
      "The R-squared we found for IS Ridge is: 0.0740743349041\n",
      "The R-squared we found for IS Ridge is: 0.0740445747825\n",
      "The R-squared we found for IS Ridge is: 0.0740190922147\n",
      "The R-squared we found for IS Ridge is: 0.0739928160657\n",
      "The R-squared we found for IS Ridge is: 0.0739641751804\n",
      "The R-squared we found for IS Ridge is: 0.0739325944542\n",
      "The R-squared we found for IS Ridge is: 0.0738978680809\n",
      "The R-squared we found for IS Ridge is: 0.0738599506539\n"
     ]
    }
   ],
   "source": [
    "testXs = [XsumRNcatTest, XsumRNcatTest, XmeanRNTest, XmeanTest]\n",
    "for  data in testXs:\n",
    "    for alpha in linspace(0, 100000, 10):\n",
    "        Ridge=linear_model.Ridge(fit_intercept=True,alpha=alpha) #try Ridge with an arbitrary regularization parameter lambda=1\n",
    "        X = data\n",
    "        Y = Ytest\n",
    "        Ridge.fit(X,Y)\n",
    "        # In the sample:\n",
    "        p_IS=Ridge.predict(X)\n",
    "        err_IS=p_IS-Y\n",
    "        R_2_IS_Ridge=1-np.var(err_IS)/np.var(Y)\n",
    "        print(\"The R-squared we found for IS Ridge is: {0}\".format(R_2_IS_Ridge))"
   ]
  },
  {
   "cell_type": "markdown",
   "metadata": {
    "collapsed": true
   },
   "source": [
    "# Lasso Train"
   ]
  },
  {
   "cell_type": "code",
   "execution_count": 86,
   "metadata": {
    "collapsed": false
   },
   "outputs": [
    {
     "name": "stdout",
     "output_type": "stream",
     "text": [
      "The R-squared we found for IS Lasso is: 0.0323637014141\n",
      "The R-squared we found for IS Lasso is: 0.029752942328\n",
      "The R-squared we found for IS Lasso is: 0.0285332203899\n",
      "The R-squared we found for IS Lasso is: 0.0281874417994\n",
      "The R-squared we found for IS Lasso is: 0.0277033517728\n",
      "The R-squared we found for IS Lasso is: 0.02708095031\n",
      "The R-squared we found for IS Lasso is: 0.0263202374111\n",
      "The R-squared we found for IS Lasso is: 0.0254212130759\n",
      "The R-squared we found for IS Lasso is: 0.0243838773046\n",
      "The R-squared we found for IS Lasso is: 0.0232082300971\n",
      "The R-squared we found for IS Lasso is: 0.0323637014141\n",
      "The R-squared we found for IS Lasso is: 0.029752942328\n",
      "The R-squared we found for IS Lasso is: 0.0285332203899\n",
      "The R-squared we found for IS Lasso is: 0.0281874417994\n",
      "The R-squared we found for IS Lasso is: 0.0277033517728\n",
      "The R-squared we found for IS Lasso is: 0.02708095031\n",
      "The R-squared we found for IS Lasso is: 0.0263202374111\n",
      "The R-squared we found for IS Lasso is: 0.0254212130759\n",
      "The R-squared we found for IS Lasso is: 0.0243838773046\n",
      "The R-squared we found for IS Lasso is: 0.0232082300971\n",
      "The R-squared we found for IS Lasso is: 0.0317567015074\n",
      "The R-squared we found for IS Lasso is: 0.0154550955746\n",
      "The R-squared we found for IS Lasso is: 0.0154327789916\n",
      "The R-squared we found for IS Lasso is: 0.015395552291\n",
      "The R-squared we found for IS Lasso is: 0.0153434726608\n",
      "The R-squared we found for IS Lasso is: 0.0152765174422\n",
      "The R-squared we found for IS Lasso is: 0.0151946866351\n",
      "The R-squared we found for IS Lasso is: 0.0150979802396\n",
      "The R-squared we found for IS Lasso is: 0.0149863982556\n",
      "The R-squared we found for IS Lasso is: 0.0148599406831\n",
      "The R-squared we found for IS Lasso is: 0.0483804518637\n",
      "The R-squared we found for IS Lasso is: 0.0461881108205\n",
      "The R-squared we found for IS Lasso is: 0.0405300804947\n",
      "The R-squared we found for IS Lasso is: 0.040529780525\n",
      "The R-squared we found for IS Lasso is: 0.0405293605673\n",
      "The R-squared we found for IS Lasso is: 0.0405288206219\n",
      "The R-squared we found for IS Lasso is: 0.0405281606886\n",
      "The R-squared we found for IS Lasso is: 0.0405273807674\n",
      "The R-squared we found for IS Lasso is: 0.0405264808584\n",
      "The R-squared we found for IS Lasso is: 0.0405254609616\n"
     ]
    },
    {
     "name": "stderr",
     "output_type": "stream",
     "text": [
      "/Users/maxfacts/anaconda/lib/python2.7/site-packages/ipykernel/__main__.py:6: UserWarning: With alpha=0, this algorithm does not converge well. You are advised to use the LinearRegression estimator\n"
     ]
    }
   ],
   "source": [
    "for  data in trainXs:\n",
    "    for alpha in linspace(0, .1, 10):\n",
    "        Lasso=linear_model.Lasso(fit_intercept=True,alpha=alpha) #try Ridge with a selected regularization parameter lambda\n",
    "        X = data\n",
    "        Y = Ytrain\n",
    "        Lasso.fit(X,Y)\n",
    "        # In the sample:\n",
    "        p_IS=Lasso.predict(X)\n",
    "        err_IS=p_IS-Y\n",
    "        R_2_IS_Lasso=1-np.var(err_IS)/np.var(Y)\n",
    "        print(\"The R-squared we found for IS Lasso is: {0}\".format(R_2_IS_Lasso))"
   ]
  },
  {
   "cell_type": "code",
   "execution_count": 87,
   "metadata": {
    "collapsed": false
   },
   "outputs": [
    {
     "name": "stdout",
     "output_type": "stream",
     "text": [
      "The R-squared we found for IS Lasso is: 0.0181085468402\n",
      "The R-squared we found for IS Lasso is: 0.0167719140593\n",
      "The R-squared we found for IS Lasso is: 0.0167341571241\n",
      "The R-squared we found for IS Lasso is: 0.0166712288987\n",
      "The R-squared we found for IS Lasso is: 0.0165831293832\n",
      "The R-squared we found for IS Lasso is: 0.0164698585775\n",
      "The R-squared we found for IS Lasso is: 0.0163314164817\n",
      "The R-squared we found for IS Lasso is: 0.0161678030957\n",
      "The R-squared we found for IS Lasso is: 0.0159790184195\n",
      "The R-squared we found for IS Lasso is: 0.0157650624532\n",
      "The R-squared we found for IS Lasso is: 0.0181085468402\n",
      "The R-squared we found for IS Lasso is: 0.0167719140593\n",
      "The R-squared we found for IS Lasso is: 0.0167341571241\n",
      "The R-squared we found for IS Lasso is: 0.0166712288987\n",
      "The R-squared we found for IS Lasso is: 0.0165831293832\n",
      "The R-squared we found for IS Lasso is: 0.0164698585775\n",
      "The R-squared we found for IS Lasso is: 0.0163314164817\n",
      "The R-squared we found for IS Lasso is: 0.0161678030957\n",
      "The R-squared we found for IS Lasso is: 0.0159790184195\n",
      "The R-squared we found for IS Lasso is: 0.0157650624532\n",
      "The R-squared we found for IS Lasso is: 0.0668345925328\n",
      "The R-squared we found for IS Lasso is: 0.0106040272046\n",
      "The R-squared we found for IS Lasso is: 0.0105759637304\n",
      "The R-squared we found for IS Lasso is: 0.0105292171104\n",
      "The R-squared we found for IS Lasso is: 0.0104637772374\n",
      "The R-squared we found for IS Lasso is: 0.0103796441114\n",
      "The R-squared we found for IS Lasso is: 0.0102768177325\n",
      "The R-squared we found for IS Lasso is: 0.0101552981005\n",
      "The R-squared we found for IS Lasso is: 0.0100150852156\n",
      "The R-squared we found for IS Lasso is: 0.00985617907768\n",
      "The R-squared we found for IS Lasso is: 0.0919622960803\n",
      "The R-squared we found for IS Lasso is: 0.0900973663216\n",
      "The R-squared we found for IS Lasso is: 0.0845026072003\n",
      "The R-squared we found for IS Lasso is: 0.0751780187159\n",
      "The R-squared we found for IS Lasso is: 0.074030500245\n",
      "The R-squared we found for IS Lasso is: 0.0740301343394\n",
      "The R-squared we found for IS Lasso is: 0.0740296871214\n",
      "The R-squared we found for IS Lasso is: 0.0740291585908\n",
      "The R-squared we found for IS Lasso is: 0.0740285487477\n",
      "The R-squared we found for IS Lasso is: 0.0740278575922\n"
     ]
    },
    {
     "name": "stderr",
     "output_type": "stream",
     "text": [
      "/Users/maxfacts/anaconda/lib/python2.7/site-packages/ipykernel/__main__.py:6: UserWarning: With alpha=0, this algorithm does not converge well. You are advised to use the LinearRegression estimator\n"
     ]
    }
   ],
   "source": [
    "for  data in testXs:\n",
    "    for alpha in linspace(0, .1, 10):\n",
    "        Lasso=linear_model.Lasso(fit_intercept=True,alpha=alpha) #try Ridge with a selected regularization parameter lambda\n",
    "        X = data\n",
    "        Y = Ytest\n",
    "        Lasso.fit(X,Y)\n",
    "        # In the sample:\n",
    "        p_IS=Lasso.predict(X)\n",
    "        err_IS=p_IS-Y\n",
    "        R_2_IS_Lasso=1-np.var(err_IS)/np.var(Y)\n",
    "        print(\"The R-squared we found for IS Lasso is: {0}\".format(R_2_IS_Lasso))"
   ]
  },
  {
   "cell_type": "code",
   "execution_count": null,
   "metadata": {
    "collapsed": true
   },
   "outputs": [],
   "source": []
  }
 ],
 "metadata": {
  "kernelspec": {
   "display_name": "Python 2",
   "language": "python",
   "name": "python2"
  },
  "language_info": {
   "codemirror_mode": {
    "name": "ipython",
    "version": 2
   },
   "file_extension": ".py",
   "mimetype": "text/x-python",
   "name": "python",
   "nbconvert_exporter": "python",
   "pygments_lexer": "ipython2",
   "version": "2.7.11"
  }
 },
 "nbformat": 4,
 "nbformat_minor": 0
}
