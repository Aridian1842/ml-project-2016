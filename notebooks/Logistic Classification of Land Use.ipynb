{
 "cells": [
  {
   "cell_type": "code",
   "execution_count": 6,
   "metadata": {
    "collapsed": false
   },
   "outputs": [
    {
     "name": "stdout",
     "output_type": "stream",
     "text": [
      "Populating the interactive namespace from numpy and matplotlib\n"
     ]
    }
   ],
   "source": [
    "import pandas as pd\n",
    "import numpy as np\n",
    "import statsmodels.api as sm\n",
    "import statsmodels.formula.api as smf\n",
    "from pandas.stats.api import ols\n",
    "%pylab inline\n",
    "import matplotlib.pyplot as plt\n",
    "from sklearn import linear_model\n",
    "from sklearn.linear_model import LogisticRegression"
   ]
  },
  {
   "cell_type": "code",
   "execution_count": 9,
   "metadata": {
    "collapsed": false
   },
   "outputs": [],
   "source": [
    "listofcolumns = ['road_id', 'road_length', 'record_count', 'mean_SndMean', 'mean_lux', 'mean_acel', 'mean_isloud', \n",
    "                 'mean_isdark', 'mean_bumps', 'sum_isloud', 'sum_isdark', 'sum_bumps', 'rn_mean_SndMean', 'rn_mean_lux',\n",
    "                 'rn_mean_acel', 'rn_mean_isloud', 'rn_mean_isdark', 'rn_mean_bumps', 'rn_sum_isloud', \n",
    "                 'rn_sum_isdark', 'rn_sum_bumps']\n"
   ]
  },
  {
   "cell_type": "code",
   "execution_count": 10,
   "metadata": {
    "collapsed": false
   },
   "outputs": [
    {
     "name": "stderr",
     "output_type": "stream",
     "text": [
      "/Users/maxfacts/anaconda/lib/python2.7/site-packages/ipykernel/__main__.py:1: FutureWarning: convert_objects is deprecated.  Use the data-type specific converters pd.to_datetime, pd.to_timedelta and pd.to_numeric.\n",
      "  if __name__ == '__main__':\n",
      "/Users/maxfacts/anaconda/lib/python2.7/site-packages/ipykernel/__main__.py:4: FutureWarning: convert_objects is deprecated.  Use the data-type specific converters pd.to_datetime, pd.to_timedelta and pd.to_numeric.\n",
      "/Users/maxfacts/anaconda/lib/python2.7/site-packages/ipykernel/__main__.py:7: FutureWarning: convert_objects is deprecated.  Use the data-type specific converters pd.to_datetime, pd.to_timedelta and pd.to_numeric.\n"
     ]
    }
   ],
   "source": [
    "sensorXtrain = pd.DataFrame(np.load('x_train.npy'), columns= listofcolumns).convert_objects(convert_numeric=True)\n",
    "sensorYtrain = pd.DataFrame(np.load('y_train.npy'), columns = ['Y'])\n",
    "\n",
    "sensorXvalid = pd.DataFrame(np.load('x_valid.npy'), columns= listofcolumns).convert_objects(convert_numeric=True)\n",
    "sensorYvalid = pd.DataFrame(np.load('y_valid.npy'), columns = ['Y'])\n",
    "\n",
    "sensorXtest = pd.DataFrame(np.load('x_test.npy'), columns= listofcolumns).convert_objects(convert_numeric=True)\n",
    "sensorYtest = pd.DataFrame(np.load('y_test.npy'), columns = ['Y'])"
   ]
  },
  {
   "cell_type": "markdown",
   "metadata": {},
   "source": [
    "# Logistic Classification"
   ]
  },
  {
   "cell_type": "code",
   "execution_count": 55,
   "metadata": {
    "collapsed": false
   },
   "outputs": [
    {
     "data": {
      "text/plain": [
       "816"
      ]
     },
     "execution_count": 55,
     "metadata": {},
     "output_type": "execute_result"
    }
   ],
   "source": [
    "len(XmeanRNcatTrain)"
   ]
  },
  {
   "cell_type": "code",
   "execution_count": 127,
   "metadata": {
    "collapsed": false,
    "scrolled": false
   },
   "outputs": [
    {
     "data": {
      "text/plain": [
       "LogisticRegression(C=1.0, class_weight=None, dual=False, fit_intercept=True,\n",
       "          intercept_scaling=1, max_iter=100, multi_class='ovr', n_jobs=1,\n",
       "          penalty='l2', random_state=None, solver='liblinear', tol=0.0001,\n",
       "          verbose=0, warm_start=False)"
      ]
     },
     "execution_count": 127,
     "metadata": {},
     "output_type": "execute_result"
    }
   ],
   "source": [
    "XmeanRNcatTrain = sensorXtrain[['rn_mean_isloud','rn_mean_isdark','rn_mean_isdark',]]\n",
    "XsumRNcatTrain = sensorXtrain[['rn_sum_isloud','rn_sum_isdark','rn_sum_isdark',]]\n",
    "XmeanRNTrain = sensorXtrain[['rn_mean_acel', 'rn_mean_lux', 'rn_mean_SndMean']]\n",
    "XmeanTrain = sensorXtrain[['mean_SndMean', 'mean_lux', 'mean_acel']]\n",
    "Ytrain = np.load('y_train.npy')\n",
    "\n",
    "\n",
    "LogTrain = [XmeanRNcatTrain, XsumRNcatTrain, XmeanRNTrain, XmeanTrain]\n",
    "LogTrainScores = []\n",
    "for  df in LogTrain:\n",
    "    logclass = LogisticRegression()\n",
    "    logclass.fit(np.asarray(df), Ytrain)\n",
    "    LogTrainScores.append(logclass.score(np.asarray(df), Ytrain))\n",
    "\n",
    "\n",
    "bestlogclass = LogisticRegression()\n",
    "Xtrain =  np.asarray(LogTrain[LogTrainScores.index(max(LogTrainScores))])\n",
    "bestlogclass.fit(X, Ytrain)\n"
   ]
  },
  {
   "cell_type": "code",
   "execution_count": 147,
   "metadata": {
    "collapsed": false
   },
   "outputs": [
    {
     "data": {
      "text/plain": [
       "[0.47549019607843135,\n",
       " 0.53431372549019607,\n",
       " 0.49877450980392157,\n",
       " 0.54656862745098034]"
      ]
     },
     "execution_count": 147,
     "metadata": {},
     "output_type": "execute_result"
    }
   ],
   "source": [
    "LogTrainScores"
   ]
  },
  {
   "cell_type": "code",
   "execution_count": 146,
   "metadata": {
    "collapsed": false
   },
   "outputs": [
    {
     "data": {
      "text/html": [
       "<div>\n",
       "<table border=\"1\" class=\"dataframe\">\n",
       "  <thead>\n",
       "    <tr style=\"text-align: right;\">\n",
       "      <th></th>\n",
       "      <th>0</th>\n",
       "      <th>1</th>\n",
       "      <th>2</th>\n",
       "      <th>3</th>\n",
       "      <th>real</th>\n",
       "      <th>model</th>\n",
       "    </tr>\n",
       "  </thead>\n",
       "  <tbody>\n",
       "    <tr>\n",
       "      <th>0</th>\n",
       "      <td>0.395050</td>\n",
       "      <td>0.489048</td>\n",
       "      <td>0.039787</td>\n",
       "      <td>0.076115</td>\n",
       "      <td>2</td>\n",
       "      <td>1</td>\n",
       "    </tr>\n",
       "    <tr>\n",
       "      <th>1</th>\n",
       "      <td>0.856526</td>\n",
       "      <td>0.086281</td>\n",
       "      <td>0.036023</td>\n",
       "      <td>0.021170</td>\n",
       "      <td>0</td>\n",
       "      <td>0</td>\n",
       "    </tr>\n",
       "    <tr>\n",
       "      <th>2</th>\n",
       "      <td>0.377702</td>\n",
       "      <td>0.504301</td>\n",
       "      <td>0.045329</td>\n",
       "      <td>0.072668</td>\n",
       "      <td>1</td>\n",
       "      <td>1</td>\n",
       "    </tr>\n",
       "    <tr>\n",
       "      <th>3</th>\n",
       "      <td>0.329725</td>\n",
       "      <td>0.518786</td>\n",
       "      <td>0.074755</td>\n",
       "      <td>0.076734</td>\n",
       "      <td>2</td>\n",
       "      <td>1</td>\n",
       "    </tr>\n",
       "    <tr>\n",
       "      <th>4</th>\n",
       "      <td>0.307841</td>\n",
       "      <td>0.526146</td>\n",
       "      <td>0.086231</td>\n",
       "      <td>0.079782</td>\n",
       "      <td>2</td>\n",
       "      <td>1</td>\n",
       "    </tr>\n",
       "  </tbody>\n",
       "</table>\n",
       "</div>"
      ],
      "text/plain": [
       "          0         1         2         3  real  model\n",
       "0  0.395050  0.489048  0.039787  0.076115     2      1\n",
       "1  0.856526  0.086281  0.036023  0.021170     0      0\n",
       "2  0.377702  0.504301  0.045329  0.072668     1      1\n",
       "3  0.329725  0.518786  0.074755  0.076734     2      1\n",
       "4  0.307841  0.526146  0.086231  0.079782     2      1"
      ]
     },
     "execution_count": 146,
     "metadata": {},
     "output_type": "execute_result"
    }
   ],
   "source": [
    "\n",
    "Probs = pd.DataFrame(bestlogclass.predict_proba(X))\n",
    "Probs['real'] = Ytrain\n",
    "Probs['model'] = bestlogclass.predict(X)\n",
    "\n",
    "# Probs['AccFlag'] = Probs"
   ]
  },
  {
   "cell_type": "markdown",
   "metadata": {},
   "source": [
    "# Logistic Test Set"
   ]
  },
  {
   "cell_type": "code",
   "execution_count": 129,
   "metadata": {
    "collapsed": true
   },
   "outputs": [],
   "source": [
    "XmeanRNcatTest = sensorXtest[['rn_mean_isloud','rn_mean_isdark','rn_mean_isdark',]]\n",
    "XsumRNcatTest = sensorXtest[['rn_sum_isloud','rn_sum_isdark','rn_sum_isdark',]]\n",
    "XmeanRNTest = sensorXtest[['rn_mean_acel', 'rn_mean_lux', 'rn_mean_SndMean']]\n",
    "XmeanTest = sensorXtest[['mean_SndMean', 'mean_lux', 'mean_acel']]\n",
    "Ytest = np.load('y_test.npy')\n",
    "LogTest = [XmeanRNcatTest, XsumRNcatTest, XmeanRNTest, XmeanTest]"
   ]
  },
  {
   "cell_type": "code",
   "execution_count": 130,
   "metadata": {
    "collapsed": false
   },
   "outputs": [],
   "source": [
    "Xtest = LogTest[LogTrainScores.index(max(LogTrainScores))]"
   ]
  },
  {
   "cell_type": "code",
   "execution_count": 135,
   "metadata": {
    "collapsed": false
   },
   "outputs": [],
   "source": [
    "modelreturns = bestlogclass.predict(Xtest)"
   ]
  },
  {
   "cell_type": "code",
   "execution_count": 143,
   "metadata": {
    "collapsed": true
   },
   "outputs": [],
   "source": [
    "res = pd.DataFrame({'predicted': modelreturns, 'observed': Ytest})\n",
    "res['rec'] = 1\n",
    "res = res.pivot_table(index='observed', columns='predicted', values='rec', aggfunc=np.count_nonzero)\n",
    "res1 = res / res.sum(1)"
   ]
  },
  {
   "cell_type": "code",
   "execution_count": 144,
   "metadata": {
    "collapsed": false
   },
   "outputs": [
    {
     "data": {
      "text/html": [
       "<div>\n",
       "<table border=\"1\" class=\"dataframe\">\n",
       "  <thead>\n",
       "    <tr style=\"text-align: right;\">\n",
       "      <th>predicted</th>\n",
       "      <th>0</th>\n",
       "      <th>1</th>\n",
       "    </tr>\n",
       "    <tr>\n",
       "      <th>observed</th>\n",
       "      <th></th>\n",
       "      <th></th>\n",
       "    </tr>\n",
       "  </thead>\n",
       "  <tbody>\n",
       "    <tr>\n",
       "      <th>0</th>\n",
       "      <td>38</td>\n",
       "      <td>131</td>\n",
       "    </tr>\n",
       "    <tr>\n",
       "      <th>1</th>\n",
       "      <td>3</td>\n",
       "      <td>165</td>\n",
       "    </tr>\n",
       "    <tr>\n",
       "      <th>2</th>\n",
       "      <td>3</td>\n",
       "      <td>34</td>\n",
       "    </tr>\n",
       "    <tr>\n",
       "      <th>3</th>\n",
       "      <td>NaN</td>\n",
       "      <td>35</td>\n",
       "    </tr>\n",
       "  </tbody>\n",
       "</table>\n",
       "</div>"
      ],
      "text/plain": [
       "predicted   0    1\n",
       "observed          \n",
       "0          38  131\n",
       "1           3  165\n",
       "2           3   34\n",
       "3         NaN   35"
      ]
     },
     "execution_count": 144,
     "metadata": {},
     "output_type": "execute_result"
    }
   ],
   "source": [
    "res"
   ]
  },
  {
   "cell_type": "code",
   "execution_count": 148,
   "metadata": {
    "collapsed": false,
    "scrolled": true
   },
   "outputs": [],
   "source": [
    "res1.columns = ['Commerical', 'Multi-Family', 'Industrial', 'High Density Residential']"
   ]
  },
  {
   "cell_type": "code",
   "execution_count": 149,
   "metadata": {
    "collapsed": false
   },
   "outputs": [
    {
     "data": {
      "text/html": [
       "<div>\n",
       "<table border=\"1\" class=\"dataframe\">\n",
       "  <thead>\n",
       "    <tr style=\"text-align: right;\">\n",
       "      <th></th>\n",
       "      <th>Commerical</th>\n",
       "      <th>Multi-Family</th>\n",
       "      <th>Industrial</th>\n",
       "      <th>High Density Residential</th>\n",
       "    </tr>\n",
       "    <tr>\n",
       "      <th>observed</th>\n",
       "      <th></th>\n",
       "      <th></th>\n",
       "      <th></th>\n",
       "      <th></th>\n",
       "    </tr>\n",
       "  </thead>\n",
       "  <tbody>\n",
       "    <tr>\n",
       "      <th>0</th>\n",
       "      <td>0.224852</td>\n",
       "      <td>0.779762</td>\n",
       "      <td>NaN</td>\n",
       "      <td>NaN</td>\n",
       "    </tr>\n",
       "    <tr>\n",
       "      <th>1</th>\n",
       "      <td>0.017751</td>\n",
       "      <td>0.982143</td>\n",
       "      <td>NaN</td>\n",
       "      <td>NaN</td>\n",
       "    </tr>\n",
       "    <tr>\n",
       "      <th>2</th>\n",
       "      <td>0.017751</td>\n",
       "      <td>0.202381</td>\n",
       "      <td>NaN</td>\n",
       "      <td>NaN</td>\n",
       "    </tr>\n",
       "    <tr>\n",
       "      <th>3</th>\n",
       "      <td>NaN</td>\n",
       "      <td>0.208333</td>\n",
       "      <td>NaN</td>\n",
       "      <td>NaN</td>\n",
       "    </tr>\n",
       "  </tbody>\n",
       "</table>\n",
       "</div>"
      ],
      "text/plain": [
       "          Commerical  Multi-Family  Industrial  High Density Residential\n",
       "observed                                                                \n",
       "0           0.224852      0.779762         NaN                       NaN\n",
       "1           0.017751      0.982143         NaN                       NaN\n",
       "2           0.017751      0.202381         NaN                       NaN\n",
       "3                NaN      0.208333         NaN                       NaN"
      ]
     },
     "execution_count": 149,
     "metadata": {},
     "output_type": "execute_result"
    }
   ],
   "source": [
    "res1"
   ]
  },
  {
   "cell_type": "code",
   "execution_count": null,
   "metadata": {
    "collapsed": true
   },
   "outputs": [],
   "source": []
  }
 ],
 "metadata": {
  "kernelspec": {
   "display_name": "Python 2",
   "language": "python",
   "name": "python2"
  },
  "language_info": {
   "codemirror_mode": {
    "name": "ipython",
    "version": 2
   },
   "file_extension": ".py",
   "mimetype": "text/x-python",
   "name": "python",
   "nbconvert_exporter": "python",
   "pygments_lexer": "ipython2",
   "version": "2.7.11"
  }
 },
 "nbformat": 4,
 "nbformat_minor": 0
}
