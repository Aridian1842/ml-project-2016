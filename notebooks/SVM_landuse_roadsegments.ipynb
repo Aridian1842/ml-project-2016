{
 "cells": [
  {
   "cell_type": "markdown",
   "metadata": {},
   "source": [
    "# SVM for Road Segments"
   ]
  },
  {
   "cell_type": "code",
   "execution_count": 44,
   "metadata": {
    "collapsed": true
   },
   "outputs": [],
   "source": [
    "import pandas as pd \n",
    "import numpy as np\n",
    "import pylab as pl\n",
    "from sklearn import datasets\n",
    "from sklearn.multiclass import OneVsRestClassifier\n",
    "from sklearn import svm\n",
    "from sklearn.grid_search import GridSearchCV\n",
    "from sklearn import preprocessing\n",
    "import scipy.stats as sc\n",
    "import math\n",
    "import warnings\n",
    "import os\n",
    "\n",
    "\n",
    "warnings.filterwarnings(\"ignore\")\n",
    "\n",
    "pl.style.use('fivethirtyeight')\n",
    "pl.rcParams['figure.figsize'] = (16,16)"
   ]
  },
  {
   "cell_type": "code",
   "execution_count": 73,
   "metadata": {
    "collapsed": false
   },
   "outputs": [],
   "source": [
    "columns = ['road_id', 'road_length', 'record_count', 'mean_SndMean', 'mean_lux', 'mean_acel', \n",
    "\n",
    "          'mean_isloud', 'mean_isdark', 'mean_bumps', 'sum_isloud', 'sum_isdark', 'sum_bumps', \n",
    "\n",
    "          'rn_mean_SndMean', 'rn_mean_lux', 'rn_mean_acel', 'rn_mean_isloud', 'rn_mean_isdark', \n",
    "\n",
    "          'rn_mean_bumps', 'rn_sum_isloud', 'rn_sum_isdark', 'rn_sum_bumps']\n",
    "predictors = [columns.index('rn_mean_SndMean'), columns.index('rn_mean_isdark'), columns.index('rn_mean_bumps')]\n",
    "\n",
    "x_train = np.load('../data/segments/X_train.npy')\n",
    "y_train = np.load('../data/segments/y_train.npy')\n",
    "x_test = np.load('../data/segments/x_test.npy')\n",
    "y_test = np.load('../data/segments/y_test.npy')\n",
    "x_valid = np.load('../data/segments/x_valid.npy')\n",
    "y_valid = np.load('../data/segments/y_valid.npy')\n"
   ]
  },
  {
   "cell_type": "code",
   "execution_count": 8,
   "metadata": {
    "collapsed": false
   },
   "outputs": [],
   "source": [
    "x_predictors_train = x_train[:,predictors]\n",
    "x_predictors_test = x_test[:,predictors]\n",
    "x_predictors_valid = x_valid[:,predictors]\n"
   ]
  },
  {
   "cell_type": "markdown",
   "metadata": {},
   "source": [
    "## Data Exploration"
   ]
  },
  {
   "cell_type": "code",
   "execution_count": 85,
   "metadata": {
    "collapsed": false
   },
   "outputs": [
    {
     "data": {
      "text/plain": [
       "(816, 21)"
      ]
     },
     "execution_count": 85,
     "metadata": {},
     "output_type": "execute_result"
    }
   ],
   "source": [
    "x_train.shape"
   ]
  },
  {
   "cell_type": "code",
   "execution_count": 86,
   "metadata": {
    "collapsed": false
   },
   "outputs": [],
   "source": [
    "foo = np.hstack([x_train, y_train.reshape(816,1)])\n",
    "#foo = foo[:,3:]"
   ]
  },
  {
   "cell_type": "code",
   "execution_count": 97,
   "metadata": {
    "collapsed": false
   },
   "outputs": [],
   "source": [
    "zeros = foo[foo[:,21] == 0]\n",
    "ones = foo[foo[:,21] == 1]\n",
    "twos = foo[foo[:,21] == 2]\n",
    "threes = foo[foo[:,21] == 3]"
   ]
  },
  {
   "cell_type": "code",
   "execution_count": 99,
   "metadata": {
    "collapsed": false
   },
   "outputs": [
    {
     "data": {
      "text/plain": [
       "(319, 388, 55, 54)"
      ]
     },
     "execution_count": 99,
     "metadata": {},
     "output_type": "execute_result"
    }
   ],
   "source": [
    "len(zeros), len(ones), len(twos), len(threes)"
   ]
  },
  {
   "cell_type": "code",
   "execution_count": 100,
   "metadata": {
    "collapsed": false
   },
   "outputs": [
    {
     "data": {
      "text/plain": [
       "DescribeResult(nobs=319, minmax=(array([  2.30000000e+01,   7.26497627e+00,   6.00000000e+00,\n",
       "         1.92886169e+02,   2.11764706e+00,   8.90901995e+00,\n",
       "         0.00000000e+00,   0.00000000e+00,   0.00000000e+00,\n",
       "         0.00000000e+00,   0.00000000e+00,   0.00000000e+00,\n",
       "         5.17459051e-01,   1.86858035e-02,   9.99411384e-03,\n",
       "         0.00000000e+00,   0.00000000e+00,   0.00000000e+00,\n",
       "         0.00000000e+00,   0.00000000e+00,   0.00000000e+00,\n",
       "         0.00000000e+00]), array([  4.89796000e+05,   9.09470516e+02,   1.45300000e+03,\n",
       "         5.24598726e+02,   2.87285484e+04,   9.90843739e+00,\n",
       "         1.00000000e+00,   1.00000000e+00,   1.00000000e+00,\n",
       "         5.26000000e+02,   1.26400000e+03,   2.47000000e+02,\n",
       "         6.40295707e+01,   8.10789974e+02,   1.25873914e+00,\n",
       "         6.08206343e-02,   1.26014653e-01,   4.38724563e-02,\n",
       "         5.58701143e+00,   2.46657909e+01,   4.30784446e+00,\n",
       "         0.00000000e+00])), mean=array([  2.41132270e+05,   9.43453842e+01,   8.99968652e+01,\n",
       "         4.78614426e+02,   4.20001545e+03,   9.23743394e+00,\n",
       "         1.47816242e-01,   8.96499494e-01,   1.12837457e-01,\n",
       "         9.64263323e+00,   7.80501567e+01,   8.60501567e+00,\n",
       "         8.01816477e+00,   6.55509116e+01,   1.56962704e-01,\n",
       "         2.45265488e-03,   1.50074543e-02,   1.92928917e-03,\n",
       "         1.37876503e-01,   1.09399676e+00,   1.22654115e-01,\n",
       "         0.00000000e+00]), variance=array([  1.74722780e+10,   5.99141409e+03,   3.49288773e+04,\n",
       "         6.14480136e+03,   2.16312704e+07,   6.62496260e-02,\n",
       "         2.44049603e-02,   4.77879843e-02,   3.05759493e-02,\n",
       "         1.12272094e+03,   2.51237836e+04,   4.56673685e+02,\n",
       "         4.68270921e+01,   8.85864402e+03,   1.89091493e-02,\n",
       "         2.09118604e-05,   1.74741853e-04,   1.91810990e-05,\n",
       "         1.75707859e-01,   5.63232680e+00,   1.18587073e-01,\n",
       "         0.00000000e+00]), skewness=array([ -0.0443104 ,   4.68162573,   4.32511736,  -2.59696522,\n",
       "         2.28037619,   0.91448506,   2.04526929,  -2.70503713,\n",
       "         2.70794488,  12.3192125 ,   4.13025336,   6.19583365,\n",
       "         3.17891752,   3.52491728,   3.74100495,   7.78686659,\n",
       "         3.30905179,   5.64741821,   8.87357944,   5.70813086,\n",
       "         7.65472066,   0.        ]), kurtosis=array([  -0.99710038,   40.17644426,   21.79864103,    5.4515034 ,\n",
       "          6.20926178,   -0.28671252,    5.70607226,    7.10563251,\n",
       "          8.50031856,  178.52492879,   19.83267809,   54.22939851,\n",
       "         16.55710011,   17.1849023 ,   21.46790191,   86.75384938,\n",
       "         18.59283492,   41.34086945,   97.90977234,   42.45947238,\n",
       "         77.4285758 ,   -3.        ]))"
      ]
     },
     "execution_count": 100,
     "metadata": {},
     "output_type": "execute_result"
    }
   ],
   "source": [
    "sc.describe(zeros)"
   ]
  },
  {
   "cell_type": "code",
   "execution_count": 91,
   "metadata": {
    "collapsed": false
   },
   "outputs": [
    {
     "data": {
      "text/plain": [
       "DescribeResult(nobs=388, minmax=(array([  4.54000000e+02,   1.33554997e+01,   6.00000000e+00,\n",
       "         5.07242703e+02,   3.19178082e+00,   8.87706919e+00,\n",
       "         0.00000000e+00,   0.00000000e+00,   0.00000000e+00,\n",
       "         0.00000000e+00,   0.00000000e+00,   0.00000000e+00,\n",
       "         1.12794729e+00,   1.43987697e-02,   1.99577399e-02,\n",
       "         0.00000000e+00,   0.00000000e+00,   0.00000000e+00,\n",
       "         0.00000000e+00,   0.00000000e+00,   0.00000000e+00,\n",
       "         1.00000000e+00]), array([  4.84460000e+05,   4.52610911e+02,   7.85000000e+02,\n",
       "         5.25130000e+02,   2.59000000e+04,   9.94279386e+00,\n",
       "         1.00000000e+00,   1.00000000e+00,   8.33333333e-01,\n",
       "         1.15000000e+02,   6.41000000e+02,   2.06000000e+02,\n",
       "         3.81335680e+01,   1.20450072e+03,   7.36990297e-01,\n",
       "         2.51122387e-02,   7.48755209e-02,   1.79264517e-02,\n",
       "         8.69289017e-01,   7.31475126e+00,   1.57555043e+00,\n",
       "         1.00000000e+00])), mean=array([  2.35792198e+05,   1.06545025e+02,   4.56185567e+01,\n",
       "         5.09718494e+02,   4.77607747e+03,   9.31179878e+00,\n",
       "         1.64038262e-01,   9.23410599e-01,   1.23299973e-01,\n",
       "         4.33762887e+00,   4.24329897e+01,   5.71134021e+00,\n",
       "         7.01788584e+00,   7.09022160e+01,   1.28451943e-01,\n",
       "         2.26344825e-03,   1.28005038e-02,   1.50339251e-03,\n",
       "         5.08660201e-02,   4.34314453e-01,   5.25388348e-02,\n",
       "         1.00000000e+00]), variance=array([  1.91450890e+10,   4.85505506e+03,   7.07416420e+03,\n",
       "         3.17206087e+00,   1.71130980e+07,   1.02475860e-01,\n",
       "         2.72708721e-02,   3.48841040e-02,   2.53443516e-02,\n",
       "         7.52836450e+01,   6.06393090e+03,   2.62500440e+02,\n",
       "         2.33254210e+01,   1.04492024e+04,   8.05447156e-03,\n",
       "         8.48377644e-06,   8.68958939e-05,   5.15066860e-06,\n",
       "         8.18155490e-03,   4.96303644e-01,   1.61672695e-02,\n",
       "         0.00000000e+00]), skewness=array([-0.05131142,  1.55494765,  4.38316712,  5.19755538,  1.50128967,\n",
       "        0.68414581,  1.39926802, -3.25555215,  1.66248512,  7.77989902,\n",
       "        4.17011531,  7.34574583,  2.21419911,  5.00420843,  2.3633739 ,\n",
       "        2.94842029,  2.16389316,  2.74328054,  5.44092847,  4.79004672,\n",
       "        6.80416269,  0.        ]), kurtosis=array([ -1.21534322,   2.83256663,  24.66993728,  33.98948896,\n",
       "         3.20256569,  -0.95165297,   2.89477531,  10.62578797,\n",
       "         2.78099629,  82.41126703,  21.38181505,  71.58277436,\n",
       "         7.4432511 ,  42.23292134,   8.74714404,  14.99536105,\n",
       "         7.80432816,  10.90906654,  38.41795651,  32.50441549,\n",
       "        63.97007546,  -3.        ]))"
      ]
     },
     "execution_count": 91,
     "metadata": {},
     "output_type": "execute_result"
    }
   ],
   "source": [
    "sc.describe(ones)"
   ]
  },
  {
   "cell_type": "code",
   "execution_count": 92,
   "metadata": {
    "collapsed": false
   },
   "outputs": [
    {
     "data": {
      "text/plain": [
       "DescribeResult(nobs=55, minmax=(array([  1.31970000e+04,   2.47337757e+01,   6.00000000e+00,\n",
       "         1.94063333e+02,   2.16666667e+00,   8.81779467e+00,\n",
       "         0.00000000e+00,   0.00000000e+00,   0.00000000e+00,\n",
       "         0.00000000e+00,   0.00000000e+00,   0.00000000e+00,\n",
       "         1.28923434e+00,   1.29091409e-02,   2.30098746e-02,\n",
       "         0.00000000e+00,   0.00000000e+00,   0.00000000e+00,\n",
       "         0.00000000e+00,   0.00000000e+00,   0.00000000e+00,\n",
       "         2.00000000e+00]), array([  4.81977000e+05,   3.95543654e+02,   4.19000000e+02,\n",
       "         5.12237742e+02,   2.61302051e+04,   9.15576408e+00,\n",
       "         6.36363636e-01,   1.00000000e+00,   3.33333333e-01,\n",
       "         1.08000000e+02,   4.19000000e+02,   6.00000000e+00,\n",
       "         2.06069540e+01,   9.22459515e+02,   3.64722241e-01,\n",
       "         1.30049301e-02,   3.99705143e-02,   2.77398822e-03,\n",
       "         4.24189983e-01,   5.97037792e+00,   4.16098233e-02,\n",
       "         2.00000000e+00])), mean=array([  2.59087564e+05,   1.22868800e+02,   4.36909091e+01,\n",
       "         4.88462540e+02,   7.30247024e+03,   8.92396677e+00,\n",
       "         1.87226884e-01,   8.85291392e-01,   1.80339395e-02,\n",
       "         7.05454545e+00,   3.78000000e+01,   6.00000000e-01,\n",
       "         6.17801909e+00,   1.03522818e+02,   1.13540167e-01,\n",
       "         2.17892612e-03,   1.15033194e-02,   1.48489599e-04,\n",
       "         6.11891115e-02,   4.28900512e-01,   4.62987362e-03,\n",
       "         2.00000000e+00]), variance=array([  2.08718936e+10,   6.42560628e+03,   4.89166195e+03,\n",
       "         5.74247906e+03,   4.64698648e+07,   7.70116883e-03,\n",
       "         2.24271136e-02,   6.70248595e-02,   2.82409239e-03,\n",
       "         2.33311785e+02,   4.15871852e+03,   1.76296296e+00,\n",
       "         2.44897056e+01,   2.55097025e+04,   7.42766217e-03,\n",
       "         5.80184604e-06,   9.34357527e-05,   2.16180075e-07,\n",
       "         7.39684244e-03,   7.23286888e-01,   9.77042858e-05,\n",
       "         0.00000000e+00]), skewness=array([-0.10601226,  1.22812908,  3.72261774, -3.32306363,  1.18066801,\n",
       "        0.9785606 ,  0.81751818, -2.46973238,  4.42515763,  5.50268104,\n",
       "        4.33882226,  2.48912275,  1.68522992,  3.22135673,  1.56425274,\n",
       "        2.20387033,  1.47615109,  4.51836885,  2.49748487,  5.27119969,\n",
       "        2.21040704,  0.        ]), kurtosis=array([ -1.18393422,   1.48394564,  15.12966884,   9.12797549,\n",
       "         0.75569333,  -0.14333297,   0.33222124,   4.93738682,\n",
       "        21.66210975,  33.19956052,  21.4421668 ,   5.77529835,\n",
       "         2.05178718,  12.03607102,   1.74810836,   6.2830088 ,\n",
       "         1.7149886 ,  20.80369895,   6.14384461,  31.18558666,\n",
       "         4.07390103,  -3.        ]))"
      ]
     },
     "execution_count": 92,
     "metadata": {},
     "output_type": "execute_result"
    }
   ],
   "source": [
    "sc.describe(twos)"
   ]
  },
  {
   "cell_type": "code",
   "execution_count": 9,
   "metadata": {
    "collapsed": false
   },
   "outputs": [
    {
     "name": "stdout",
     "output_type": "stream",
     "text": [
      "we successfully(OS) predict the 34.2298288509 percent of data using a linear kernel\n"
     ]
    }
   ],
   "source": [
    "#Linear Kernel\n",
    "bool_clf = OneVsRestClassifier(svm.SVC(kernel='linear', C=1.0, class_weight='balanced'))\n",
    "bool_clf.fit(x_predictors_train, y_train)\n",
    "linear_y_pred = bool_clf.predict(x_predictors_test)\n",
    "right=1.0*(linear_y_pred==np.asarray(y_test)).sum()/len(y_test)\n",
    "\n",
    "print \"we successfully(OS) predict the {} percent of data using a linear kernel\".format((right)*100)\n",
    "os.system('say \"First Linear Done\"');"
   ]
  },
  {
   "cell_type": "code",
   "execution_count": 101,
   "metadata": {
    "collapsed": false
   },
   "outputs": [
    {
     "name": "stdout",
     "output_type": "stream",
     "text": [
      "we successfully(OS) predict the 24.6943765281 percent of data using a rbf kernel\n"
     ]
    }
   ],
   "source": [
    "# RBF kernel with gamma = auto (1/4 in this case)\n",
    "bool_rbf_clf = OneVsRestClassifier(svm.SVC(kernel='rbf', C=1.0, class_weight='balanced'))\n",
    "bool_rbf_clf.fit(x_predictors_train, y_train)\n",
    "rbf_y_pred = bool_rbf_clf.predict(x_predictors_test)\n",
    "\n",
    "right=1.0*(rbf_y_pred==np.asarray(y_test)).sum()/len(y_test)\n",
    "\n",
    "print \"we successfully(OS) predict the {} percent of data using a rbf kernel\".format((right)*100)\n",
    "os.system('say \"First RBF Done\"');"
   ]
  },
  {
   "cell_type": "code",
   "execution_count": 103,
   "metadata": {
    "collapsed": false
   },
   "outputs": [
    {
     "name": "stdout",
     "output_type": "stream",
     "text": [
      "we successfully(OS) predict the 27.3838630807 percent of data using a rbf kernel\n"
     ]
    }
   ],
   "source": [
    "# RBF kernel with gamma = 0.5\n",
    "bool_rbf_high_clf = OneVsRestClassifier(svm.SVC(kernel='rbf', C=1.0, gamma = 0.5, class_weight='balanced'))\n",
    "bool_rbf_high_clf.fit(x_predictors_train, y_train)\n",
    "rbf_high_y_pred = bool_rbf_high_clf.predict(x_predictors_test)\n",
    "\n",
    "right=1.0*(rbf_high_y_pred==np.asarray(y_test)).sum()/len(y_test)\n",
    "print \"we successfully(OS) predict the {} percent of data using a rbf kernel\".format((right)*100)\n",
    "os.system('say \"First RBF Done\"');"
   ]
  },
  {
   "cell_type": "code",
   "execution_count": 104,
   "metadata": {
    "collapsed": false
   },
   "outputs": [
    {
     "name": "stdout",
     "output_type": "stream",
     "text": [
      "we successfully(OS) predict the 24.2053789731 percent of data using a poly kernel\n"
     ]
    }
   ],
   "source": [
    "bool_poly_clf = OneVsRestClassifier(svm.SVC(kernel='poly', C=1.0, class_weight='balanced'))\n",
    "bool_poly_clf.fit(x_predictors_train, y_train)\n",
    "poly_y_pred = bool_poly_clf.predict(x_predictors_test)\n",
    "\n",
    "right=1.0*(poly_y_pred==np.asarray(y_test)).sum()/len(y_test)\n",
    "\n",
    "print \"we successfully(OS) predict the {} percent of data using a poly kernel\".format((right)*100)"
   ]
  },
  {
   "cell_type": "code",
   "execution_count": null,
   "metadata": {
    "collapsed": true
   },
   "outputs": [],
   "source": []
  }
 ],
 "metadata": {
  "kernelspec": {
   "display_name": "Plume Conda",
   "language": "python",
   "name": "plume_conda"
  },
  "language_info": {
   "codemirror_mode": {
    "name": "ipython",
    "version": 2
   },
   "file_extension": ".py",
   "mimetype": "text/x-python",
   "name": "python",
   "nbconvert_exporter": "python",
   "pygments_lexer": "ipython2",
   "version": "2.7.11"
  }
 },
 "nbformat": 4,
 "nbformat_minor": 0
}
