{
 "cells": [
  {
   "cell_type": "markdown",
   "metadata": {},
   "source": [
    "# SVM for Road Segments"
   ]
  },
  {
   "cell_type": "code",
   "execution_count": 1,
   "metadata": {
    "collapsed": true
   },
   "outputs": [],
   "source": [
    "import pandas as pd \n",
    "import numpy as np\n",
    "import pylab as pl\n",
    "from sklearn import datasets\n",
    "from sklearn.multiclass import OneVsRestClassifier\n",
    "from sklearn import svm\n",
    "from sklearn.grid_search import GridSearchCV\n",
    "from sklearn import preprocessing\n",
    "import scipy.stats as sc\n",
    "import math\n",
    "import warnings\n",
    "import os\n",
    "\n",
    "\n",
    "warnings.filterwarnings(\"ignore\")\n",
    "\n",
    "pl.style.use('fivethirtyeight')\n",
    "pl.rcParams['figure.figsize'] = (16,16)"
   ]
  },
  {
   "cell_type": "code",
   "execution_count": 2,
   "metadata": {
    "collapsed": false
   },
   "outputs": [],
   "source": [
    "columns = ['road_id', 'road_length', 'record_count', 'mean_SndMean', 'mean_lux', 'mean_acel', \n",
    "\n",
    "          'mean_isloud', 'mean_isdark', 'mean_bumps', 'sum_isloud', 'sum_isdark', 'sum_bumps', \n",
    "\n",
    "          'rn_mean_SndMean', 'rn_mean_lux', 'rn_mean_acel', 'rn_mean_isloud', 'rn_mean_isdark', \n",
    "\n",
    "          'rn_mean_bumps', 'rn_sum_isloud', 'rn_sum_isdark', 'rn_sum_bumps']\n",
    "predictors = [columns.index('sum_isloud'),columns.index('sum_isdark'),columns.index('sum_bumps'), columns.index('mean_isloud'),columns.index('mean_isdark'),columns.index('mean_bumps'),columns.index('rn_mean_isloud'), columns.index('rn_mean_isdark'), columns.index('rn_mean_bumps')]\n",
    "\n",
    "x_train = np.load('../data/segments/X_train.npy')\n",
    "y_train = np.load('../data/segments/y_train.npy')\n",
    "x_test = np.load('../data/segments/x_test.npy')\n",
    "y_test = np.load('../data/segments/y_test.npy')\n",
    "x_valid = np.load('../data/segments/x_valid.npy')\n",
    "y_valid = np.load('../data/segments/y_valid.npy')\n"
   ]
  },
  {
   "cell_type": "code",
   "execution_count": 3,
   "metadata": {
    "collapsed": false
   },
   "outputs": [],
   "source": [
    "x_predictors_train = x_train[:,predictors]\n",
    "x_predictors_test = x_test[:,predictors]\n",
    "x_predictors_valid = x_valid[:,predictors]\n"
   ]
  },
  {
   "cell_type": "code",
   "execution_count": null,
   "metadata": {
    "collapsed": false
   },
   "outputs": [],
   "source": []
  },
  {
   "cell_type": "markdown",
   "metadata": {},
   "source": [
    "## Data Exploration"
   ]
  },
  {
   "cell_type": "code",
   "execution_count": 4,
   "metadata": {
    "collapsed": false
   },
   "outputs": [
    {
     "data": {
      "text/plain": [
       "(816, 21)"
      ]
     },
     "execution_count": 4,
     "metadata": {},
     "output_type": "execute_result"
    }
   ],
   "source": [
    "x_train.shape"
   ]
  },
  {
   "cell_type": "code",
   "execution_count": 5,
   "metadata": {
    "collapsed": false
   },
   "outputs": [],
   "source": [
    "foo = np.hstack([x_train, y_train.reshape(816,1)])\n",
    "#foo = foo[:,3:]"
   ]
  },
  {
   "cell_type": "code",
   "execution_count": 6,
   "metadata": {
    "collapsed": false
   },
   "outputs": [],
   "source": [
    "zeros = foo[foo[:,21] == 0]\n",
    "ones = foo[foo[:,21] == 1]\n",
    "twos = foo[foo[:,21] == 2]\n",
    "threes = foo[foo[:,21] == 3]"
   ]
  },
  {
   "cell_type": "code",
   "execution_count": 7,
   "metadata": {
    "collapsed": false
   },
   "outputs": [
    {
     "data": {
      "text/plain": [
       "(319, 388, 55, 54)"
      ]
     },
     "execution_count": 7,
     "metadata": {},
     "output_type": "execute_result"
    }
   ],
   "source": [
    "len(zeros), len(ones), len(twos), len(threes)"
   ]
  },
  {
   "cell_type": "code",
   "execution_count": 8,
   "metadata": {
    "collapsed": false
   },
   "outputs": [
    {
     "data": {
      "text/plain": [
       "DescribeResult(nobs=55, minmax=(array([  1.31970000e+04,   2.47337757e+01,   6.00000000e+00,\n",
       "         1.94063333e+02,   2.16666667e+00,   8.81779467e+00,\n",
       "         0.00000000e+00,   0.00000000e+00,   0.00000000e+00,\n",
       "         0.00000000e+00,   0.00000000e+00,   0.00000000e+00,\n",
       "         1.28923434e+00,   1.29091409e-02,   2.30098746e-02,\n",
       "         0.00000000e+00,   0.00000000e+00,   0.00000000e+00,\n",
       "         0.00000000e+00,   0.00000000e+00,   0.00000000e+00,\n",
       "         2.00000000e+00]), array([  4.81977000e+05,   3.95543654e+02,   4.19000000e+02,\n",
       "         5.12237742e+02,   2.61302051e+04,   9.15576408e+00,\n",
       "         6.36363636e-01,   1.00000000e+00,   3.33333333e-01,\n",
       "         1.08000000e+02,   4.19000000e+02,   6.00000000e+00,\n",
       "         2.06069540e+01,   9.22459515e+02,   3.64722241e-01,\n",
       "         1.30049301e-02,   3.99705143e-02,   2.77398822e-03,\n",
       "         4.24189983e-01,   5.97037792e+00,   4.16098233e-02,\n",
       "         2.00000000e+00])), mean=array([  2.59087564e+05,   1.22868800e+02,   4.36909091e+01,\n",
       "         4.88462540e+02,   7.30247024e+03,   8.92396677e+00,\n",
       "         1.87226884e-01,   8.85291392e-01,   1.80339395e-02,\n",
       "         7.05454545e+00,   3.78000000e+01,   6.00000000e-01,\n",
       "         6.17801909e+00,   1.03522818e+02,   1.13540167e-01,\n",
       "         2.17892612e-03,   1.15033194e-02,   1.48489599e-04,\n",
       "         6.11891115e-02,   4.28900512e-01,   4.62987362e-03,\n",
       "         2.00000000e+00]), variance=array([  2.08718936e+10,   6.42560628e+03,   4.89166195e+03,\n",
       "         5.74247906e+03,   4.64698648e+07,   7.70116883e-03,\n",
       "         2.24271136e-02,   6.70248595e-02,   2.82409239e-03,\n",
       "         2.33311785e+02,   4.15871852e+03,   1.76296296e+00,\n",
       "         2.44897056e+01,   2.55097025e+04,   7.42766217e-03,\n",
       "         5.80184604e-06,   9.34357527e-05,   2.16180075e-07,\n",
       "         7.39684244e-03,   7.23286888e-01,   9.77042858e-05,\n",
       "         0.00000000e+00]), skewness=array([-0.10601226,  1.22812908,  3.72261774, -3.32306363,  1.18066801,\n",
       "        0.9785606 ,  0.81751818, -2.46973238,  4.42515763,  5.50268104,\n",
       "        4.33882226,  2.48912275,  1.68522992,  3.22135673,  1.56425274,\n",
       "        2.20387033,  1.47615109,  4.51836885,  2.49748487,  5.27119969,\n",
       "        2.21040704,  0.        ]), kurtosis=array([ -1.18393422,   1.48394564,  15.12966884,   9.12797549,\n",
       "         0.75569333,  -0.14333297,   0.33222124,   4.93738682,\n",
       "        21.66210975,  33.19956052,  21.4421668 ,   5.77529835,\n",
       "         2.05178718,  12.03607102,   1.74810836,   6.2830088 ,\n",
       "         1.7149886 ,  20.80369895,   6.14384461,  31.18558666,\n",
       "         4.07390103,  -3.        ]))"
      ]
     },
     "execution_count": 8,
     "metadata": {},
     "output_type": "execute_result"
    }
   ],
   "source": [
    "sc.describe(twos)"
   ]
  },
  {
   "cell_type": "markdown",
   "metadata": {},
   "source": [
    "### Kernels"
   ]
  },
  {
   "cell_type": "code",
   "execution_count": null,
   "metadata": {
    "collapsed": false
   },
   "outputs": [],
   "source": [
    "#Linear Kernel\n",
    "bool_clf = OneVsRestClassifier(svm.SVC(kernel='linear', C=10.0, class_weight='balanced'))\n",
    "bool_clf.fit(x_predictors_train, y_train)\n",
    "linear_y_pred = bool_clf.predict(x_predictors_test)\n",
    "right=1.0*(linear_y_pred==np.asarray(y_test)).sum()/len(y_test)\n",
    "\n",
    "print \"we successfully(OS) predict the {} percent of data using a linear kernel\".format((right)*100)\n",
    "os.system('say \"First Linear Done\"');"
   ]
  },
  {
   "cell_type": "code",
   "execution_count": null,
   "metadata": {
    "collapsed": false
   },
   "outputs": [],
   "source": [
    "pd.unique(y_train), pd.unique(linear_y_pred), pd.unique(rbf_high_y_pred)"
   ]
  },
  {
   "cell_type": "code",
   "execution_count": null,
   "metadata": {
    "collapsed": false
   },
   "outputs": [],
   "source": [
    "# RBF kernel with gamma = auto (1/4 in this case)\n",
    "bool_rbf_clf = OneVsRestClassifier(svm.SVC(kernel='rbf', C=1.0, class_weight='balanced'))\n",
    "bool_rbf_clf.fit(x_predictors_train, y_train)\n",
    "rbf_y_pred = bool_rbf_clf.predict(x_predictors_test)\n",
    "\n",
    "right=1.0*(rbf_y_pred==np.asarray(y_test)).sum()/len(y_test)\n",
    "\n",
    "print \"we successfully(OS) predict the {} percent of data using a rbf kernel\".format((right)*100)\n",
    "os.system('say \"First RBF Done\"');"
   ]
  },
  {
   "cell_type": "code",
   "execution_count": null,
   "metadata": {
    "collapsed": false
   },
   "outputs": [],
   "source": [
    "# RBF kernel with gamma = 0.5\n",
    "bool_rbf_high_clf = OneVsRestClassifier(svm.SVC(kernel='rbf', C=1.0, gamma = 0.5, class_weight='balanced'))\n",
    "bool_rbf_high_clf.fit(x_predictors_train, y_train)\n",
    "rbf_high_y_pred = bool_rbf_high_clf.predict(x_predictors_test)\n",
    "\n",
    "right=1.0*(rbf_high_y_pred==np.asarray(y_test)).sum()/len(y_test)\n",
    "print \"we successfully(OS) predict the {} percent of data using a rbf kernel\".format((right)*100)\n",
    "os.system('say \"First RBF Done\"');"
   ]
  },
  {
   "cell_type": "code",
   "execution_count": null,
   "metadata": {
    "collapsed": false
   },
   "outputs": [],
   "source": [
    "bool_poly_clf = OneVsRestClassifier(svm.SVC(kernel='poly', C=1.0, class_weight='balanced'))\n",
    "bool_poly_clf.fit(x_predictors_train, y_train)\n",
    "poly_y_pred = bool_poly_clf.predict(x_predictors_test)\n",
    "\n",
    "right=1.0*(poly_y_pred==np.asarray(y_test)).sum()/len(y_test)\n",
    "\n",
    "print \"we successfully(OS) predict the {} percent of data using a poly kernel\".format((right)*100)"
   ]
  },
  {
   "cell_type": "code",
   "execution_count": null,
   "metadata": {
    "collapsed": true
   },
   "outputs": [],
   "source": []
  },
  {
   "cell_type": "markdown",
   "metadata": {},
   "source": [
    "## Tuning Parameter"
   ]
  },
  {
   "cell_type": "code",
   "execution_count": null,
   "metadata": {
    "collapsed": true
   },
   "outputs": [],
   "source": [
    "tuned_parameters = [ {'kernel': ['linear'], 'C': [0.1, 1, 10, 100, 1000]} ]\n",
    "\n",
    "validate_clf = GridSearchCV(svm.SVC(C=1, class_weight='balanced'), tuned_parameters, cv=5,\n",
    "                       scoring='%s_weighted' % 'recall')\n",
    "validate_clf.fit(x_predictors_train, y_train)\n",
    "\n",
    "validate_clf.best_params_\n",
    "\n",
    "C = np.linspace(-5,50,10)\n",
    "C=[math.exp(i) for i in C]\n",
    "OS_validation=[]\n",
    "for c in C:\n",
    "    clf = svm.SVC(kernel='linear',C=c) \n",
    "    clf.fit(x_predictors_train, y_train)\n",
    "    right=1.0*(clf.predict(x_predictors_valid)==np.asarray(y_valid)).sum()/len(y_valid)\n",
    "    OS_validation.append(right)\n",
    "    \n",
    "temp=pd.DataFrame([C,OS_validation]).T\n",
    "ind=len(temp.loc[temp.iloc[:,1]==temp.iloc[:,1].max()])/2 \n",
    "C_opt=temp.loc[temp.iloc[:,1]==temp.iloc[:,1].max()].iloc[ind,0]\n",
    "\n",
    "\n",
    "C=[math.log(y,10) for y in C]# for a better graph\n",
    "pylab.plot(C,OS_validation,'b',)\n",
    "pylab.legend(loc='upper right')\n",
    "pylab.ylabel('Accuracy')\n",
    "pylab.xlabel('log(C)')\n",
    "pylab.show()\n",
    "\n",
    "print(\"The optimal C we found is:{}\".format(C_opt)) \n",
    "''' '''"
   ]
  },
  {
   "cell_type": "code",
   "execution_count": null,
   "metadata": {
    "collapsed": true
   },
   "outputs": [],
   "source": []
  }
 ],
 "metadata": {
  "kernelspec": {
   "display_name": "Plume Conda",
   "language": "python",
   "name": "plume_conda"
  },
  "language_info": {
   "codemirror_mode": {
    "name": "ipython",
    "version": 2
   },
   "file_extension": ".py",
   "mimetype": "text/x-python",
   "name": "python",
   "nbconvert_exporter": "python",
   "pygments_lexer": "ipython2",
   "version": "2.7.11"
  }
 },
 "nbformat": 4,
 "nbformat_minor": 0
}
