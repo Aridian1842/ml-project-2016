{
 "cells": [
  {
   "cell_type": "markdown",
   "metadata": {},
   "source": [
    "# Support Vector Machines\n",
    "\n",
    "Use SVM to seperate the predict land use type"
   ]
  },
  {
   "cell_type": "code",
   "execution_count": 7,
   "metadata": {
    "collapsed": true
   },
   "outputs": [],
   "source": [
    "import pandas as pd \n",
    "import numpy as np\n",
    "import pylab as pl\n",
    "from sklearn import svm\n",
    "from sklearn.grid_search import GridSearchCV\n",
    "import math\n",
    "\n",
    "pl.style.use('fivethirtyeight')\n",
    "pl.rcParams['figure.figsize'] = (16,16)"
   ]
  },
  {
   "cell_type": "code",
   "execution_count": 2,
   "metadata": {
    "collapsed": true
   },
   "outputs": [],
   "source": [
    "columns = ['ID', 'GPS_DATETIMESTAMP', 'GPS_LAT', 'GPS_LON', 'GPS_Speed', 'GPS_Alt', 'GPS_Sats', 'GPS_Fix', 'GPS_Quality', 'AMB_Temp', 'AMB_Humd', 'AMB_Lux', 'AMB_Snd', 'AMB_SndMin', 'AMB_SndMax', 'AMB_SndMea', 'RDQ_AcX', 'RDQ_AcXMin', 'RDQ_AcXMax', 'RDQ_AcXMea', 'RDQ_AcY', 'RDQ_AcYMin', 'RDQ_AcYMax', 'RDQ_AcYMea', 'RDQ_AcZ', 'RDQ_AcZMin', 'RDQ_AcZMax', 'RDQ_AcZMea', 'sensor', 'timestamp', 'hourOfDay', 'minuteOfDay', 'minuteStretched', 'LU05_DESC', 'LUCODE', 'merge_key', 'day', 'sensor_num', 'sensor_day', 'keep_SndMean', 'is_loud', 'is_dark', 'acel', 'bumpflag', 'latlon_match']\n",
    "predictors = [columns.index('is_loud'), columns.index('is_dark'), columns.index('bumpflag')]\n",
    "\n",
    "x_train = np.load('../data/x_train.npy')\n",
    "y_train = np.load('../data/y_train.npy')\n",
    "x_test = np.load('../data/x_test.npy')\n",
    "y_test = np.load('../data/y_test.npy')\n",
    "x_valid = np.load('../data/x_valid.npy')\n",
    "y_valid = np.load('../data/y_valid.npy')\n"
   ]
  },
  {
   "cell_type": "code",
   "execution_count": 3,
   "metadata": {
    "collapsed": false
   },
   "outputs": [],
   "source": [
    "x_predictors_train = x_train[:,predictors]\n",
    "x_predictors_test = x_test[:,predictors]\n",
    "x_predictors_valid = x_valid[:,predictors]\n"
   ]
  },
  {
   "cell_type": "markdown",
   "metadata": {},
   "source": [
    "### Training over several types of kernels"
   ]
  },
  {
   "cell_type": "code",
   "execution_count": 4,
   "metadata": {
    "collapsed": false
   },
   "outputs": [
    {
     "name": "stdout",
     "output_type": "stream",
     "text": [
      "we successfully(OS) predict the 65.4633818315 percent of data using a linear kernel\n"
     ]
    }
   ],
   "source": [
    "clf = svm.SVC(kernel='linear',C=1.0) \n",
    "clf.fit(x_predictors_train, y_train)\n",
    "\n",
    "right=1.0*(clf.predict(x_predictors_test)==np.asarray(y_test)).sum()/len(y_test)\n",
    "\n",
    "print \"we successfully(OS) predict the {} percent of data using a linear kernel\".format((right)*100)"
   ]
  },
  {
   "cell_type": "code",
   "execution_count": 5,
   "metadata": {
    "collapsed": false,
    "scrolled": true
   },
   "outputs": [
    {
     "name": "stdout",
     "output_type": "stream",
     "text": [
      "we successfully(OS) predict the 65.5061743489 percent of data using a rbf kernel\n"
     ]
    }
   ],
   "source": [
    "rbf_clf = svm.SVC(kernel='rbf',C=1.0) \n",
    "rbf_clf.fit(x_predictors_train, y_train)\n",
    "\n",
    "right=1.0*(rbf_clf.predict(x_predictors_test)==np.asarray(y_test)).sum()/len(y_test)\n",
    "\n",
    "print \"we successfully(OS) predict the {} percent of data using a rbf kernel\".format((right)*100)"
   ]
  },
  {
   "cell_type": "code",
   "execution_count": 6,
   "metadata": {
    "collapsed": false
   },
   "outputs": [
    {
     "name": "stdout",
     "output_type": "stream",
     "text": [
      "we successfully(OS) predict the 65.5061743489 percent of data using a poly kernel\n"
     ]
    }
   ],
   "source": [
    "poly_clf = svm.SVC(kernel='poly',C=1.0, degree = 3) \n",
    "poly_clf.fit(x_predictors_train, y_train)\n",
    "\n",
    "right=1.0*(poly_clf.predict(x_predictors_test)==np.asarray(y_test)).sum()/len(y_test)\n",
    "\n",
    "print \"we successfully(OS) predict the {} percent of data using a poly kernel\".format((right)*100)"
   ]
  },
  {
   "cell_type": "markdown",
   "metadata": {},
   "source": [
    "### Tuning  parameters\n",
    "\n",
    "\n",
    "#### Linear Kernal"
   ]
  },
  {
   "cell_type": "code",
   "execution_count": 8,
   "metadata": {
    "collapsed": true
   },
   "outputs": [],
   "source": [
    "tuned_parameters = [{'kernel': ['rbf'], 'gamma': [1e-3, 1e-4],\n",
    "                     'C': [1, 10, 100, 1000]},\n",
    "                    {'kernel': ['linear'], 'C': [1, 10, 100, 1000]}]"
   ]
  },
  {
   "cell_type": "code",
   "execution_count": 11,
   "metadata": {
    "collapsed": false
   },
   "outputs": [
    {
     "data": {
      "text/plain": [
       "GridSearchCV(cv=5, error_score='raise',\n",
       "       estimator=SVC(C=1, cache_size=200, class_weight=None, coef0=0.0,\n",
       "  decision_function_shape=None, degree=3, gamma='auto', kernel='rbf',\n",
       "  max_iter=-1, probability=False, random_state=None, shrinking=True,\n",
       "  tol=0.001, verbose=False),\n",
       "       fit_params={}, iid=True, n_jobs=1,\n",
       "       param_grid=[{'kernel': ['rbf'], 'C': [1, 10, 100, 1000], 'gamma': [0.001, 0.0001]}, {'kernel': ['linear'], 'C': [1, 10, 100, 1000]}],\n",
       "       pre_dispatch='2*n_jobs', refit=True, scoring='recall_weighted',\n",
       "       verbose=0)"
      ]
     },
     "execution_count": 11,
     "metadata": {},
     "output_type": "execute_result"
    }
   ],
   "source": [
    "validate_clf = GridSearchCV(svm.SVC(C=1), tuned_parameters, cv=5,\n",
    "                       scoring='%s_weighted' % 'recall')\n",
    "validate_clf.fit(x_predictors_train, y_train)"
   ]
  },
  {
   "cell_type": "code",
   "execution_count": 12,
   "metadata": {
    "collapsed": false
   },
   "outputs": [
    {
     "data": {
      "text/plain": [
       "{'C': 1, 'gamma': 0.001, 'kernel': 'rbf'}"
      ]
     },
     "execution_count": 12,
     "metadata": {},
     "output_type": "execute_result"
    }
   ],
   "source": [
    "validate_clf.best_params_"
   ]
  },
  {
   "cell_type": "code",
   "execution_count": 13,
   "metadata": {
    "collapsed": false
   },
   "outputs": [
    {
     "name": "stdout",
     "output_type": "stream",
     "text": [
      "we successfully(OS) predict the 65.4633818315 percent of data using a rbf kernel\n"
     ]
    }
   ],
   "source": [
    "rbf_clf = svm.SVC(kernel='rbf',C=1.0) \n",
    "rbf_clf.fit(x_predictors_train, y_train)\n",
    "\n",
    "right=1.0*(rbf_clf.predict(x_predictors_test)==np.asarray(y_test)).sum()/len(y_test)\n",
    "\n",
    "print \"we successfully(OS) predict the {} percent of data using a rbf kernel\".format((right)*100)"
   ]
  },
  {
   "cell_type": "code",
   "execution_count": null,
   "metadata": {
    "collapsed": false
   },
   "outputs": [],
   "source": [
    "C = np.linspace(-5,50,10)\n",
    "C=[math.exp(i) for i in C]\n",
    "OS_validation=[]\n",
    "for c in C:\n",
    "    clf = svm.SVC(kernel='linear',C=c) \n",
    "    clf.fit(x_predictors_train, y_train)\n",
    "    right=1.0*(clf.predict(x_predictors_valid)==np.asarray(y_valid)).sum()/len(y_valid)\n",
    "    OS_validation.append(right)\n",
    "    \n",
    "temp=pd.DataFrame([C,OS_validation]).T\n",
    "ind=len(temp.loc[temp.iloc[:,1]==temp.iloc[:,1].max()])/2 \n",
    "C_opt=temp.loc[temp.iloc[:,1]==temp.iloc[:,1].max()].iloc[ind,0]\n",
    "\n",
    "\n",
    "C=[math.log(y,10) for y in C]# for a better graph\n",
    "pylab.plot(C,OS_validation,'b',)\n",
    "pylab.legend(loc='upper right')\n",
    "pylab.ylabel('Accuracy')\n",
    "pylab.xlabel('log(C)')\n",
    "pylab.show()\n",
    "\n",
    "print(\"The optimal C we found is:{}\".format(C_opt)) \n"
   ]
  }
 ],
 "metadata": {
  "kernelspec": {
   "display_name": "Python 2",
   "language": "python",
   "name": "python2"
  },
  "language_info": {
   "codemirror_mode": {
    "name": "ipython",
    "version": 2
   },
   "file_extension": ".py",
   "mimetype": "text/x-python",
   "name": "python",
   "nbconvert_exporter": "python",
   "pygments_lexer": "ipython2",
   "version": "2.7.10"
  }
 },
 "nbformat": 4,
 "nbformat_minor": 0
}
